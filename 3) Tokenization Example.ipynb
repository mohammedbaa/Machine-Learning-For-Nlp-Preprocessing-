{
 "cells": [
  {
   "cell_type": "code",
   "execution_count": 20,
   "metadata": {},
   "outputs": [],
   "source": [
    "import nltk \n",
    "#Tokenization\n",
    "# ============================ \n",
    "from nltk import word_tokenize \n",
    "from nltk.tokenize import sent_tokenize\n",
    "from nltk import wordpunct_tokenize\n",
    "from nltk.tokenize import TreebankWordDetokenizer"
   ]
  },
  {
   "cell_type": "code",
   "execution_count": 21,
   "metadata": {},
   "outputs": [],
   "source": [
    "corpus=\"\"\"Hello Welcome , To Mohammad NLp Tutorilas.\n",
    "Please Do watch The Entire course! To Become Expert In Nlp .\n",
    "\"\"\"\n"
   ]
  },
  {
   "cell_type": "code",
   "execution_count": 22,
   "metadata": {},
   "outputs": [
    {
     "name": "stdout",
     "output_type": "stream",
     "text": [
      "Hello Welcome , To Mohammad NLp Tutorilas.\n",
      "Please Do watch The Entire course! To Become Expert In Nlp .\n",
      "\n"
     ]
    }
   ],
   "source": [
    "print(corpus)"
   ]
  },
  {
   "cell_type": "code",
   "execution_count": 23,
   "metadata": {},
   "outputs": [],
   "source": [
    "documents=sent_tokenize(corpus)"
   ]
  },
  {
   "cell_type": "code",
   "execution_count": 24,
   "metadata": {},
   "outputs": [
    {
     "data": {
      "text/plain": [
       "list"
      ]
     },
     "execution_count": 24,
     "metadata": {},
     "output_type": "execute_result"
    }
   ],
   "source": [
    "type(documents)"
   ]
  },
  {
   "cell_type": "code",
   "execution_count": 25,
   "metadata": {},
   "outputs": [
    {
     "name": "stdout",
     "output_type": "stream",
     "text": [
      "Hello Welcome , To Mohammad NLp Tutorilas.\n",
      "Please Do watch The Entire course!\n",
      "To Become Expert In Nlp .\n"
     ]
    }
   ],
   "source": [
    "for i in documents:\n",
    "    print(i)"
   ]
  },
  {
   "cell_type": "code",
   "execution_count": 26,
   "metadata": {},
   "outputs": [
    {
     "data": {
      "text/plain": [
       "['Hello',\n",
       " 'Welcome',\n",
       " ',',\n",
       " 'To',\n",
       " 'Mohammad',\n",
       " 'NLp',\n",
       " 'Tutorilas',\n",
       " '.',\n",
       " 'Please',\n",
       " 'Do',\n",
       " 'watch',\n",
       " 'The',\n",
       " 'Entire',\n",
       " 'course',\n",
       " '!',\n",
       " 'To',\n",
       " 'Become',\n",
       " 'Expert',\n",
       " 'In',\n",
       " 'Nlp',\n",
       " '.']"
      ]
     },
     "execution_count": 26,
     "metadata": {},
     "output_type": "execute_result"
    }
   ],
   "source": [
    "## Tokenization \n",
    "## Paragraph --> words \n",
    "## Sentence ---> words \n",
    "\n",
    "word_tokenize(corpus)   "
   ]
  },
  {
   "cell_type": "code",
   "execution_count": 27,
   "metadata": {},
   "outputs": [
    {
     "name": "stdout",
     "output_type": "stream",
     "text": [
      "['Hello', 'Welcome', ',', 'To', 'Mohammad', 'NLp', 'Tutorilas', '.']\n",
      "['Please', 'Do', 'watch', 'The', 'Entire', 'course', '!']\n",
      "['To', 'Become', 'Expert', 'In', 'Nlp', '.']\n"
     ]
    }
   ],
   "source": [
    "for i in documents:\n",
    "    print(word_tokenize(i))"
   ]
  },
  {
   "cell_type": "code",
   "execution_count": 28,
   "metadata": {},
   "outputs": [
    {
     "data": {
      "text/plain": [
       "['Hello',\n",
       " 'Welcome',\n",
       " ',',\n",
       " 'To',\n",
       " 'Mohammad',\n",
       " 'NLp',\n",
       " 'Tutorilas',\n",
       " '.',\n",
       " 'Please',\n",
       " 'Do',\n",
       " 'watch',\n",
       " 'The',\n",
       " 'Entire',\n",
       " 'course',\n",
       " '!',\n",
       " 'To',\n",
       " 'Become',\n",
       " 'Expert',\n",
       " 'In',\n",
       " 'Nlp',\n",
       " '.']"
      ]
     },
     "execution_count": 28,
     "metadata": {},
     "output_type": "execute_result"
    }
   ],
   "source": [
    "wordpunct_tokenize(corpus)"
   ]
  },
  {
   "cell_type": "code",
   "execution_count": 29,
   "metadata": {},
   "outputs": [
    {
     "data": {
      "text/plain": [
       "'H e l l o   W e l c o m e  ,   T o   M o h a m m a d   N L p   T u t o r i l a s . \\n P l e a s e   D o   w a t c h   T h e   E n t i r e   c o u r s e!   T o   B e c o m e   E x p e r t   I n   N l p  .'"
      ]
     },
     "execution_count": 29,
     "metadata": {},
     "output_type": "execute_result"
    }
   ],
   "source": [
    "tokenizer=TreebankWordDetokenizer()\n",
    "tokenizer.tokenize(corpus)"
   ]
  }
 ],
 "metadata": {
  "kernelspec": {
   "display_name": "base",
   "language": "python",
   "name": "python3"
  },
  "language_info": {
   "codemirror_mode": {
    "name": "ipython",
    "version": 3
   },
   "file_extension": ".py",
   "mimetype": "text/x-python",
   "name": "python",
   "nbconvert_exporter": "python",
   "pygments_lexer": "ipython3",
   "version": "3.12.4"
  }
 },
 "nbformat": 4,
 "nbformat_minor": 2
}
